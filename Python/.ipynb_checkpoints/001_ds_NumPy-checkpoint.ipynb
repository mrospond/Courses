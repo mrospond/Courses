{
 "cells": [
  {
   "cell_type": "markdown",
   "id": "577768ec",
   "metadata": {
    "slideshow": {
     "slide_type": "slide"
    }
   },
   "source": [
    "# Przetwarzanie danych w Pythonie\n",
    "\n",
    "![](https://upload.wikimedia.org/wikipedia/commons/1/12/Data_processing_system_%28english%29.svg)"
   ]
  },
  {
   "cell_type": "markdown",
   "id": "ab015a72",
   "metadata": {
    "slideshow": {
     "slide_type": "subslide"
    }
   },
   "source": [
    "W tej części kursu skupimy się na technikach przetwarzania danych w Pythonie. Nauczymy się wczytywać dane z różnych źródeł, przechowywać je w pamięci komputera i wykonywać na nich różnego rodzaju operacje. Dane na których przyjdzie nam pracować będą pochodzić z różnych źródeł i mogą reprezentować dokumenty, obrazy, dźwięki, wyniki pomiarów, wydarzenia w czasie i wszystko inne co można w pewien sposób zapisać.\n",
    "\n",
    "Na pierwszy rzut oka może wydawać się, że nie jest możliwe reprezentowanie tak różnych danych w spójny sposób. Okazuje się jednak, że większość danych z jakimi mamy styczność można przedstawić za pomocą macierzy liczbowych - np. zdjęcie w komputerze jest zapisane jako kilkuwymiarowa macierz liczb które oznaczają kolory poszczególnych pikseli."
   ]
  },
  {
   "cell_type": "markdown",
   "id": "ac5f1b1f",
   "metadata": {
    "slideshow": {
     "slide_type": "subslide"
    }
   },
   "source": [
    "Aby skutecznie analizować dane zwykle będziemy dążyć aby przedstawić je w formie numerycznej.\n",
    "\n",
    "Narzędzia na których się skupimy to dwa pakiety Pythonowe:\n",
    "- NumPy (Numerical Python)\n",
    "- Pandas"
   ]
  },
  {
   "cell_type": "markdown",
   "id": "320a6a31",
   "metadata": {
    "slideshow": {
     "slide_type": "slide"
    }
   },
   "source": [
    "# Przetwarzanie danych w Pythonie - NumPy\n",
    "\n",
    "![](https://upload.wikimedia.org/wikipedia/commons/3/31/NumPy_logo_2020.svg)"
   ]
  },
  {
   "cell_type": "markdown",
   "id": "cb5d403c",
   "metadata": {
    "slideshow": {
     "slide_type": "slide"
    }
   },
   "source": [
    "## NumPy\n",
    "\n",
    "NumPy pozwala nam efektywnie przechowywać i operować na dużych zbiorach danych. NumPy leży zwykle u podstaw wszystkich innych technik i narzędzi związanych z data science, więc czas poświęcony na naukę NumPy na pewno zwróci się w przyszłości."
   ]
  },
  {
   "cell_type": "code",
   "execution_count": 1,
   "id": "a4e21a0b",
   "metadata": {
    "slideshow": {
     "slide_type": "fragment"
    }
   },
   "outputs": [
    {
     "data": {
      "text/plain": [
       "'1.22.2'"
      ]
     },
     "execution_count": 1,
     "metadata": {},
     "output_type": "execute_result"
    }
   ],
   "source": [
    "import numpy as np\n",
    "np.__version__"
   ]
  },
  {
   "cell_type": "markdown",
   "id": "41c74f4a",
   "metadata": {
    "slideshow": {
     "slide_type": "slide"
    }
   },
   "source": [
    "### Typy danych w Pythonie i w NumPy\n",
    "\n",
    "Python sam w sobie jest językiem który dynamicznie typowanym, co oznacza, że Python sam potrafi rozpoznawać typy obiektów z których korzystamy. Rozważmy np Pythonową listę:\n"
   ]
  },
  {
   "cell_type": "code",
   "execution_count": 2,
   "id": "0b2255a2",
   "metadata": {
    "slideshow": {
     "slide_type": "fragment"
    }
   },
   "outputs": [],
   "source": [
    "l = [1, \"2\", True, 3.0, None]"
   ]
  },
  {
   "cell_type": "code",
   "execution_count": 3,
   "id": "040a9693",
   "metadata": {
    "slideshow": {
     "slide_type": "fragment"
    }
   },
   "outputs": [
    {
     "data": {
      "text/plain": [
       "[int, str, bool, float, NoneType]"
      ]
     },
     "execution_count": 3,
     "metadata": {},
     "output_type": "execute_result"
    }
   ],
   "source": [
    "[type(item) for item in l]"
   ]
  },
  {
   "cell_type": "markdown",
   "id": "d075b418",
   "metadata": {
    "slideshow": {
     "slide_type": "fragment"
    }
   },
   "source": [
    "Jak widać Python potrafi samemu rozpoznać typy obiektów i stworzyć listę która zawiera obiektu różnego typu.\n",
    "Ta elastyczność ma jednak swoją cenę - każdy obiekt w liście musi przechowywać informacje o swoim typie. "
   ]
  },
  {
   "cell_type": "markdown",
   "id": "97a8b9ae",
   "metadata": {
    "slideshow": {
     "slide_type": "subslide"
    }
   },
   "source": [
    "Z perspektywy dużych zbiorów danych dużo efektywniej jest przechowywać dane w postaci wektorów wcześniej określonego typu. NumPy dostarcza nam właśnie tego typu kontener, który nazywa się `Array`."
   ]
  },
  {
   "cell_type": "code",
   "execution_count": 4,
   "id": "83810f1d",
   "metadata": {
    "slideshow": {
     "slide_type": "fragment"
    }
   },
   "outputs": [
    {
     "data": {
      "text/plain": [
       "array([1, 2, 3, 4, 5])"
      ]
     },
     "execution_count": 4,
     "metadata": {},
     "output_type": "execute_result"
    }
   ],
   "source": [
    "# tablica liczb całkowitych\n",
    "np.array([1, 2, 3, 4, 5])"
   ]
  },
  {
   "cell_type": "code",
   "execution_count": 5,
   "id": "705f9eae",
   "metadata": {
    "slideshow": {
     "slide_type": "subslide"
    }
   },
   "outputs": [
    {
     "data": {
      "text/plain": [
       "array([4.1, 0. , 1. , 2. , 3. ])"
      ]
     },
     "execution_count": 5,
     "metadata": {},
     "output_type": "execute_result"
    }
   ],
   "source": [
    "# tablica liczb zmiennoprzecinkowych\n",
    "np.array([4.1, 0, 1, 2, 3])"
   ]
  },
  {
   "cell_type": "markdown",
   "id": "47310e13",
   "metadata": {
    "slideshow": {
     "slide_type": "fragment"
    }
   },
   "source": [
    "Zauważ, że obiekty typu `int` zostały zamienione przez NumPy na typ `float` aby zachować spójność typu w tablicy."
   ]
  },
  {
   "cell_type": "markdown",
   "id": "152f84d8",
   "metadata": {
    "slideshow": {
     "slide_type": "subslide"
    }
   },
   "source": [
    "Ponadto w odróżnieniu do Pythonowych list, NumPy z łatwością reprezentuje również tablice wielowymiarowe:"
   ]
  },
  {
   "cell_type": "code",
   "execution_count": 6,
   "id": "09479f8e",
   "metadata": {
    "slideshow": {
     "slide_type": "fragment"
    }
   },
   "outputs": [
    {
     "data": {
      "text/plain": [
       "array([[2, 3, 4],\n",
       "       [4, 5, 6],\n",
       "       [6, 7, 8]])"
      ]
     },
     "execution_count": 6,
     "metadata": {},
     "output_type": "execute_result"
    }
   ],
   "source": [
    "np.array([range(i, i + 3) for i in [2, 4, 6]])"
   ]
  },
  {
   "cell_type": "markdown",
   "id": "2a2d8f9a",
   "metadata": {
    "slideshow": {
     "slide_type": "slide"
    }
   },
   "source": [
    "### Sposoby tworzenia tablic w NumPy"
   ]
  },
  {
   "cell_type": "code",
   "execution_count": 7,
   "id": "af9dd5ee",
   "metadata": {
    "slideshow": {
     "slide_type": "fragment"
    }
   },
   "outputs": [
    {
     "data": {
      "text/plain": [
       "array([0, 0, 0, 0, 0, 0, 0, 0, 0, 0])"
      ]
     },
     "execution_count": 7,
     "metadata": {},
     "output_type": "execute_result"
    }
   ],
   "source": [
    "# 10 elementowa tablica wypełniona zerami\n",
    "np.zeros(10, dtype=int)"
   ]
  },
  {
   "cell_type": "code",
   "execution_count": 8,
   "id": "326e0c77",
   "metadata": {
    "slideshow": {
     "slide_type": "fragment"
    }
   },
   "outputs": [
    {
     "data": {
      "text/plain": [
       "array([[1., 1., 1.],\n",
       "       [1., 1., 1.],\n",
       "       [1., 1., 1.],\n",
       "       [1., 1., 1.],\n",
       "       [1., 1., 1.]])"
      ]
     },
     "execution_count": 8,
     "metadata": {},
     "output_type": "execute_result"
    }
   ],
   "source": [
    "# Tablica o wymiarach 5x3, wypełniona 1.\n",
    "np.ones((5, 3), dtype=float)"
   ]
  },
  {
   "cell_type": "code",
   "execution_count": 9,
   "id": "8543032f",
   "metadata": {
    "slideshow": {
     "slide_type": "fragment"
    }
   },
   "outputs": [
    {
     "data": {
      "text/plain": [
       "array([ 0,  2,  4,  6,  8, 10, 12, 14, 16, 18])"
      ]
     },
     "execution_count": 9,
     "metadata": {},
     "output_type": "execute_result"
    }
   ],
   "source": [
    "# Tablica wypełniona ciągiem liniowym z krokiem 2\n",
    "np.arange(0, 20, 2)"
   ]
  },
  {
   "cell_type": "code",
   "execution_count": 16,
   "id": "665f483e",
   "metadata": {
    "slideshow": {
     "slide_type": "subslide"
    }
   },
   "outputs": [
    {
     "data": {
      "text/plain": [
       "array([[-1.32094152,  0.17000525,  0.7636857 ],\n",
       "       [-0.15920225, -0.7833368 ,  0.51079044],\n",
       "       [-2.35026223, -0.17383633,  0.1185872 ]])"
      ]
     },
     "execution_count": 16,
     "metadata": {},
     "output_type": "execute_result"
    }
   ],
   "source": [
    "# Tablica o wymiarach 3x3 z wartościami wylosowanymi z rozkładu N(0, 1)\n",
    "np.random.normal(0, 1, (3, 3))"
   ]
  },
  {
   "cell_type": "code",
   "execution_count": 24,
   "id": "17a82da1",
   "metadata": {
    "slideshow": {
     "slide_type": "fragment"
    }
   },
   "outputs": [
    {
     "data": {
      "text/plain": [
       "array([[8, 7, 3, 3, 9],\n",
       "       [0, 0, 0, 1, 7],\n",
       "       [6, 4, 9, 0, 4],\n",
       "       [9, 6, 3, 0, 4]])"
      ]
     },
     "execution_count": 24,
     "metadata": {},
     "output_type": "execute_result"
    }
   ],
   "source": [
    "# Tablica o wymiarach 4x5 z liczbami całkowitymi wylosowanymi z przedziału [0, 10)\n",
    "np.random.randint(0, 10, (4, 5))"
   ]
  },
  {
   "cell_type": "markdown",
   "id": "066b304c",
   "metadata": {
    "slideshow": {
     "slide_type": "fragment"
    }
   },
   "source": [
    "NumPy posiada dużo więcej typów danych niż Python, aby przeczytać o wszystkich możliwościach warto zajrzęć do dokumentacji:\n",
    "https://numpy.org/doc/stable/user/basics.types.html"
   ]
  },
  {
   "cell_type": "markdown",
   "id": "da786883",
   "metadata": {
    "slideshow": {
     "slide_type": "slide"
    }
   },
   "source": [
    "### Operowanie na tablicach w NumPy \n",
    "\n",
    "Skupimy się teraz na operacjach jakie można wykonywać na NumPy tablicach. Zobaczymy między innymi jak:\n",
    "\n",
    "- Odczytywać i ustawiać pojedyncze elementy w tablicy\n",
    "- Sprawdzać rozmiar, typ, użycie pamięci tablicy\n",
    "- Tworzyć tablice jako wycinki większych tablic\n",
    "- Zmieniać wymiary tablicy\n",
    "- Łączyć i dzielić tablice"
   ]
  },
  {
   "cell_type": "markdown",
   "id": "c9d69332",
   "metadata": {
    "slideshow": {
     "slide_type": "subslide"
    }
   },
   "source": [
    "Zacznijmy od stworzenia trzy wymiarowej tablicy wypełnionej liczbami całkowitymi:"
   ]
  },
  {
   "cell_type": "code",
   "execution_count": 29,
   "id": "021ef668",
   "metadata": {
    "slideshow": {
     "slide_type": "fragment"
    }
   },
   "outputs": [],
   "source": [
    "# Trzy wymiarowa tablica o wymiarach 2x3x4 \n",
    "# z losowymi liczbami całkowitymi z przedziału [0, 100)\n",
    "x = np.random.randint(100, size=(2, 3, 4))"
   ]
  },
  {
   "cell_type": "code",
   "execution_count": 30,
   "id": "795739a4",
   "metadata": {
    "slideshow": {
     "slide_type": "fragment"
    }
   },
   "outputs": [
    {
     "data": {
      "text/plain": [
       "array([[[35,  3, 65,  7],\n",
       "        [40, 53, 90, 96],\n",
       "        [13, 54, 13, 54]],\n",
       "\n",
       "       [[77,  4,  4, 89],\n",
       "        [83, 53, 70, 36],\n",
       "        [86, 22, 99, 98]]])"
      ]
     },
     "execution_count": 30,
     "metadata": {},
     "output_type": "execute_result"
    }
   ],
   "source": [
    "x"
   ]
  },
  {
   "cell_type": "code",
   "execution_count": 31,
   "id": "f3cf0b2f",
   "metadata": {
    "slideshow": {
     "slide_type": "subslide"
    }
   },
   "outputs": [
    {
     "name": "stdout",
     "output_type": "stream",
     "text": [
      "x ndim: 3\n",
      "x shape: (2, 3, 4)\n",
      "x size: 24\n"
     ]
    }
   ],
   "source": [
    "print(f\"x ndim: {x.ndim}\")  # liczba wymiarów\n",
    "print(f\"x shape: {x.shape}\")  # wymiary tablicy\n",
    "print(f\"x size: {x.size}\")  # całkowity rozmiar tablicy"
   ]
  },
  {
   "cell_type": "code",
   "execution_count": 32,
   "id": "610ff05f",
   "metadata": {
    "slideshow": {
     "slide_type": "fragment"
    }
   },
   "outputs": [
    {
     "name": "stdout",
     "output_type": "stream",
     "text": [
      "x dtype: int64\n"
     ]
    }
   ],
   "source": [
    "print(f\"x dtype: {x.dtype}\")  # typ danych przechowywanych w tablicy"
   ]
  },
  {
   "cell_type": "code",
   "execution_count": 33,
   "id": "365ef791",
   "metadata": {
    "slideshow": {
     "slide_type": "fragment"
    }
   },
   "outputs": [
    {
     "name": "stdout",
     "output_type": "stream",
     "text": [
      "itemsize: 8 bytes\n",
      "nbytes: 192 bytes\n"
     ]
    }
   ],
   "source": [
    "print(f\"itemsize: {x.itemsize} bytes\")  # rozmiar jednego elementu\n",
    "print(f\"nbytes: {x.nbytes} bytes\")  # rozmiar całej tablicy (itemsize x size)"
   ]
  },
  {
   "cell_type": "markdown",
   "id": "1ecc4a95",
   "metadata": {
    "slideshow": {
     "slide_type": "subslide"
    }
   },
   "source": [
    "Indeksowanie tablic w NumPy jest bardzo podobne do tego w Pythonie, odwołanie do i-tej wartości (licząc od zera) odbywa się poprzez użycie nawiasów kwadratowych:"
   ]
  },
  {
   "cell_type": "code",
   "execution_count": 34,
   "id": "5bbf8fa3",
   "metadata": {
    "slideshow": {
     "slide_type": "fragment"
    }
   },
   "outputs": [],
   "source": [
    "y = np.arange(0, 10)"
   ]
  },
  {
   "cell_type": "code",
   "execution_count": 35,
   "id": "af7c5a64",
   "metadata": {
    "slideshow": {
     "slide_type": "fragment"
    }
   },
   "outputs": [
    {
     "data": {
      "text/plain": [
       "array([0, 1, 2, 3, 4, 5, 6, 7, 8, 9])"
      ]
     },
     "execution_count": 35,
     "metadata": {},
     "output_type": "execute_result"
    }
   ],
   "source": [
    "y"
   ]
  },
  {
   "cell_type": "code",
   "execution_count": 36,
   "id": "9cbcff33",
   "metadata": {
    "slideshow": {
     "slide_type": "fragment"
    }
   },
   "outputs": [
    {
     "data": {
      "text/plain": [
       "5"
      ]
     },
     "execution_count": 36,
     "metadata": {},
     "output_type": "execute_result"
    }
   ],
   "source": [
    "y[5]"
   ]
  },
  {
   "cell_type": "code",
   "execution_count": 37,
   "id": "1c3476a9",
   "metadata": {
    "slideshow": {
     "slide_type": "fragment"
    }
   },
   "outputs": [
    {
     "data": {
      "text/plain": [
       "0"
      ]
     },
     "execution_count": 37,
     "metadata": {},
     "output_type": "execute_result"
    }
   ],
   "source": [
    "y[0]"
   ]
  },
  {
   "cell_type": "markdown",
   "id": "0a394ff6",
   "metadata": {
    "slideshow": {
     "slide_type": "subslide"
    }
   },
   "source": [
    "Tak jak w standardowym Pythonie, możemy korzystać z ujemnych indeksów:"
   ]
  },
  {
   "cell_type": "code",
   "execution_count": 38,
   "id": "a609a163",
   "metadata": {
    "slideshow": {
     "slide_type": "fragment"
    }
   },
   "outputs": [
    {
     "data": {
      "text/plain": [
       "array([0, 1, 2, 3, 4, 5, 6, 7, 8, 9])"
      ]
     },
     "execution_count": 38,
     "metadata": {},
     "output_type": "execute_result"
    }
   ],
   "source": [
    "y"
   ]
  },
  {
   "cell_type": "code",
   "execution_count": 39,
   "id": "a6eae222",
   "metadata": {
    "slideshow": {
     "slide_type": "fragment"
    }
   },
   "outputs": [
    {
     "data": {
      "text/plain": [
       "9"
      ]
     },
     "execution_count": 39,
     "metadata": {},
     "output_type": "execute_result"
    }
   ],
   "source": [
    "y[-1]"
   ]
  },
  {
   "cell_type": "markdown",
   "id": "a187d221",
   "metadata": {
    "slideshow": {
     "slide_type": "subslide"
    }
   },
   "source": [
    "Wielowymiarowe tablice możemy indeksować za pomocą krotek:"
   ]
  },
  {
   "cell_type": "code",
   "execution_count": 40,
   "id": "13c64119",
   "metadata": {
    "slideshow": {
     "slide_type": "fragment"
    }
   },
   "outputs": [
    {
     "data": {
      "text/plain": [
       "array([[[35,  3, 65,  7],\n",
       "        [40, 53, 90, 96],\n",
       "        [13, 54, 13, 54]],\n",
       "\n",
       "       [[77,  4,  4, 89],\n",
       "        [83, 53, 70, 36],\n",
       "        [86, 22, 99, 98]]])"
      ]
     },
     "execution_count": 40,
     "metadata": {},
     "output_type": "execute_result"
    }
   ],
   "source": [
    "x"
   ]
  },
  {
   "cell_type": "code",
   "execution_count": 41,
   "id": "30918a35",
   "metadata": {
    "slideshow": {
     "slide_type": "fragment"
    }
   },
   "outputs": [
    {
     "data": {
      "text/plain": [
       "90"
      ]
     },
     "execution_count": 41,
     "metadata": {},
     "output_type": "execute_result"
    }
   ],
   "source": [
    "x[0, 1, 2]  # odczytanie elementu o współrzednych (0,1,2)"
   ]
  },
  {
   "cell_type": "markdown",
   "id": "5a8a5e70",
   "metadata": {
    "slideshow": {
     "slide_type": "subslide"
    }
   },
   "source": [
    "W ten sam sposób możemy również modyfikować elementy:"
   ]
  },
  {
   "cell_type": "code",
   "execution_count": 42,
   "id": "edebecc6",
   "metadata": {
    "slideshow": {
     "slide_type": "fragment"
    }
   },
   "outputs": [
    {
     "data": {
      "text/plain": [
       "array([[[35,  3, 65,  7],\n",
       "        [40, 53, 90, 96],\n",
       "        [13, 54, 13, 54]],\n",
       "\n",
       "       [[77,  4,  4, 89],\n",
       "        [83, 53, 70, 36],\n",
       "        [86, 22, 99, 98]]])"
      ]
     },
     "execution_count": 42,
     "metadata": {},
     "output_type": "execute_result"
    }
   ],
   "source": [
    "x"
   ]
  },
  {
   "cell_type": "code",
   "execution_count": 44,
   "id": "5d314606",
   "metadata": {
    "slideshow": {
     "slide_type": "fragment"
    }
   },
   "outputs": [],
   "source": [
    "x[0, 1, 2] = 42"
   ]
  },
  {
   "cell_type": "code",
   "execution_count": 45,
   "id": "a1f6dd3c",
   "metadata": {
    "slideshow": {
     "slide_type": "fragment"
    }
   },
   "outputs": [
    {
     "data": {
      "text/plain": [
       "array([[[35,  3, 65,  7],\n",
       "        [40, 53, 42, 96],\n",
       "        [13, 54, 13, 54]],\n",
       "\n",
       "       [[77,  4,  4, 89],\n",
       "        [83, 53, 70, 36],\n",
       "        [86, 22, 99, 98]]])"
      ]
     },
     "execution_count": 45,
     "metadata": {},
     "output_type": "execute_result"
    }
   ],
   "source": [
    "x"
   ]
  },
  {
   "cell_type": "markdown",
   "id": "1a17de29",
   "metadata": {
    "slideshow": {
     "slide_type": "subslide"
    }
   },
   "source": [
    "Możemy również używać _slice_ aby odwołać się do wycinka tabeli:"
   ]
  },
  {
   "cell_type": "code",
   "execution_count": 46,
   "id": "f6e10b94",
   "metadata": {
    "slideshow": {
     "slide_type": "fragment"
    }
   },
   "outputs": [
    {
     "data": {
      "text/plain": [
       "array([0, 1, 2, 3, 4, 5, 6, 7, 8, 9])"
      ]
     },
     "execution_count": 46,
     "metadata": {},
     "output_type": "execute_result"
    }
   ],
   "source": [
    "y"
   ]
  },
  {
   "cell_type": "code",
   "execution_count": 47,
   "id": "5cf8f7bc",
   "metadata": {
    "slideshow": {
     "slide_type": "fragment"
    }
   },
   "outputs": [
    {
     "data": {
      "text/plain": [
       "array([0, 1, 2, 3, 4])"
      ]
     },
     "execution_count": 47,
     "metadata": {},
     "output_type": "execute_result"
    }
   ],
   "source": [
    "y[:5]  # pierwsze 5 elementów"
   ]
  },
  {
   "cell_type": "code",
   "execution_count": 48,
   "id": "5f44b371",
   "metadata": {
    "slideshow": {
     "slide_type": "fragment"
    }
   },
   "outputs": [
    {
     "data": {
      "text/plain": [
       "array([4, 5, 6])"
      ]
     },
     "execution_count": 48,
     "metadata": {},
     "output_type": "execute_result"
    }
   ],
   "source": [
    "y[4:7]  # wycinek ze środka tablicy"
   ]
  },
  {
   "cell_type": "code",
   "execution_count": 49,
   "id": "8be5bc58",
   "metadata": {
    "slideshow": {
     "slide_type": "fragment"
    }
   },
   "outputs": [
    {
     "data": {
      "text/plain": [
       "array([9, 8, 7, 6, 5, 4, 3, 2, 1, 0])"
      ]
     },
     "execution_count": 49,
     "metadata": {},
     "output_type": "execute_result"
    }
   ],
   "source": [
    "y[::-1]  # tablica odczytana od tyłu"
   ]
  },
  {
   "cell_type": "markdown",
   "id": "f0d5ae69",
   "metadata": {
    "slideshow": {
     "slide_type": "subslide"
    }
   },
   "source": [
    "Podobnie możemy korzystać ze _slice_ aby wycinać kawałki wielowymiarowych tablic:"
   ]
  },
  {
   "cell_type": "code",
   "execution_count": 50,
   "id": "691b2bcc",
   "metadata": {
    "slideshow": {
     "slide_type": "fragment"
    }
   },
   "outputs": [
    {
     "data": {
      "text/plain": [
       "array([[[35,  3, 65,  7],\n",
       "        [40, 53, 42, 96],\n",
       "        [13, 54, 13, 54]],\n",
       "\n",
       "       [[77,  4,  4, 89],\n",
       "        [83, 53, 70, 36],\n",
       "        [86, 22, 99, 98]]])"
      ]
     },
     "execution_count": 50,
     "metadata": {},
     "output_type": "execute_result"
    }
   ],
   "source": [
    "x"
   ]
  },
  {
   "cell_type": "code",
   "execution_count": 51,
   "id": "602a7099",
   "metadata": {
    "slideshow": {
     "slide_type": "fragment"
    }
   },
   "outputs": [
    {
     "data": {
      "text/plain": [
       "array([[[35,  3, 65],\n",
       "        [40, 53, 42],\n",
       "        [13, 54, 13]]])"
      ]
     },
     "execution_count": 51,
     "metadata": {},
     "output_type": "execute_result"
    }
   ],
   "source": [
    "x[:1, :, :3]  # dwukropek bez argumentów oznacza wybranie wszystkich elementów z danego wymiaryu!"
   ]
  },
  {
   "cell_type": "markdown",
   "id": "9cd5419b",
   "metadata": {
    "slideshow": {
     "slide_type": "subslide"
    }
   },
   "source": [
    "Warto tutaj zaznaczyć, że w przeciwieństwie do działania na liście w pythonie, gdzie użycie _slice_ zwraca nam kopie w NumPy otrzymujemy _view_."
   ]
  },
  {
   "cell_type": "code",
   "execution_count": 52,
   "id": "7169d713",
   "metadata": {
    "slideshow": {
     "slide_type": "fragment"
    }
   },
   "outputs": [
    {
     "name": "stdout",
     "output_type": "stream",
     "text": [
      "[1, 2, 3]\n",
      "[4]\n"
     ]
    }
   ],
   "source": [
    "# Pythonowa lista\n",
    "\n",
    "l1 = [1, 2, 3]\n",
    "l2 = l1[2:]\n",
    "l2[0] = 4\n",
    "print(l1)  # l1 pozostaje nie zmienione!\n",
    "print(l2)  # l1 pozostaje nie zmienione!"
   ]
  },
  {
   "cell_type": "code",
   "execution_count": 53,
   "id": "ccde5648",
   "metadata": {
    "slideshow": {
     "slide_type": "fragment"
    }
   },
   "outputs": [
    {
     "name": "stdout",
     "output_type": "stream",
     "text": [
      "[[1. 0. 0.]\n",
      " [0. 0. 0.]]\n",
      "[1. 0. 0.]\n"
     ]
    }
   ],
   "source": [
    "# NumPy\n",
    "x = np.zeros((2, 3))\n",
    "y = x[0, :]\n",
    "y[0] = 1\n",
    "\n",
    "print(x)  # x i y reprezentują tą samą tablicę!\n",
    "print(y)  # x i y reprezentują tą samą tablicę!"
   ]
  },
  {
   "cell_type": "markdown",
   "id": "0e975f11",
   "metadata": {
    "slideshow": {
     "slide_type": "subslide"
    }
   },
   "source": [
    "Jeżeli chcemy otrzymać kopię tablicy, musimy użyć metody `copy()`"
   ]
  },
  {
   "cell_type": "code",
   "execution_count": 54,
   "id": "93adc34a",
   "metadata": {
    "slideshow": {
     "slide_type": "fragment"
    }
   },
   "outputs": [
    {
     "name": "stdout",
     "output_type": "stream",
     "text": [
      "[[1. 0. 0.]\n",
      " [0. 0. 0.]]\n",
      "[[42.  0.]\n",
      " [ 0.  0.]]\n"
     ]
    }
   ],
   "source": [
    "x_copy = x[:2, :2].copy()\n",
    "x_copy[0, 0] = 42\n",
    "\n",
    "print(x)\n",
    "print(x_copy)  # zmiana x_copy nie zmieniła x"
   ]
  },
  {
   "cell_type": "markdown",
   "id": "5e3cfb78",
   "metadata": {
    "slideshow": {
     "slide_type": "slide"
    }
   },
   "source": [
    "### Zmiana wymiarów tablicy\n",
    "\n",
    "Zmiana wymiarów tablicy odbywa się poprzez użycie metody `reshape`, powiedzmy, że chcemy ułożyć liczby od 1 do 9 w tablicy 3x3:"
   ]
  },
  {
   "cell_type": "code",
   "execution_count": 56,
   "id": "c70b88ff",
   "metadata": {
    "slideshow": {
     "slide_type": "fragment"
    }
   },
   "outputs": [
    {
     "data": {
      "text/plain": [
       "array([[1, 2, 3],\n",
       "       [4, 5, 6],\n",
       "       [7, 8, 9]])"
      ]
     },
     "execution_count": 56,
     "metadata": {},
     "output_type": "execute_result"
    }
   ],
   "source": [
    "np.arange(1, 10).reshape((3, 3))"
   ]
  },
  {
   "cell_type": "markdown",
   "id": "1aa4220b",
   "metadata": {
    "slideshow": {
     "slide_type": "subslide"
    }
   },
   "source": [
    "Często będzie nam się przydawać możliwość zmienienia jednowymiarowego wektora w dwuwymiarowy:"
   ]
  },
  {
   "cell_type": "code",
   "execution_count": 59,
   "id": "3d8e5ea0",
   "metadata": {
    "slideshow": {
     "slide_type": "fragment"
    }
   },
   "outputs": [
    {
     "name": "stdout",
     "output_type": "stream",
     "text": [
      "[[1 2 3]]\n",
      "[[1]\n",
      " [2]\n",
      " [3]]\n"
     ]
    }
   ],
   "source": [
    "x = np.array([1, 2, 3])\n",
    "print(x.reshape((1, 3))) # dwuwymiarowa tablica z jednym wierszem i trzema kolumnami\n",
    "print(x.reshape((3, 1))) # dwuwymiarowa tablica z trzema wierszami i jedną kolumną"
   ]
  },
  {
   "cell_type": "markdown",
   "id": "14390e32",
   "metadata": {
    "slideshow": {
     "slide_type": "slide"
    }
   },
   "source": [
    "### Łączenie tablic\n",
    "\n",
    "Do łączenia tablic możemy korzystać z funkcji takich jak:\n",
    "- `np.concatenate`\n",
    "- `np.vstack`\n",
    "- `np.hstack`"
   ]
  },
  {
   "cell_type": "code",
   "execution_count": 62,
   "id": "11a2dcc8",
   "metadata": {
    "slideshow": {
     "slide_type": "fragment"
    }
   },
   "outputs": [
    {
     "data": {
      "text/plain": [
       "array([1, 2, 3, 3, 2, 1])"
      ]
     },
     "execution_count": 62,
     "metadata": {},
     "output_type": "execute_result"
    }
   ],
   "source": [
    "x = np.array([1, 2, 3])\n",
    "y = np.array([3, 2, 1])\n",
    "np.concatenate([x, y])"
   ]
  },
  {
   "cell_type": "markdown",
   "id": "4fb27db1",
   "metadata": {
    "slideshow": {
     "slide_type": "subslide"
    }
   },
   "source": [
    "Podobnie dla dwuwymiarowych tablic:\n"
   ]
  },
  {
   "cell_type": "code",
   "execution_count": 65,
   "id": "be78adc6",
   "metadata": {
    "slideshow": {
     "slide_type": "fragment"
    }
   },
   "outputs": [
    {
     "name": "stdout",
     "output_type": "stream",
     "text": [
      "[[1 2 3]\n",
      " [4 5 6]\n",
      " [1 2 3]\n",
      " [4 5 6]]\n",
      "[[1 2 3 1 2 3]\n",
      " [4 5 6 4 5 6]]\n"
     ]
    }
   ],
   "source": [
    "grid = np.array([[1, 2, 3],\n",
    "                 [4, 5, 6]])\n",
    "\n",
    "print(np.concatenate([grid, grid]))\n",
    "print(np.concatenate([grid, grid], axis=1))  # łączenie wzdłuż drugiego wymiaru"
   ]
  },
  {
   "cell_type": "markdown",
   "id": "8da02605",
   "metadata": {
    "slideshow": {
     "slide_type": "subslide"
    }
   },
   "source": [
    "`np.vstack` i `np.hstack` są skrótami do operacji łączenia pionowo i poziomo:"
   ]
  },
  {
   "cell_type": "code",
   "execution_count": 68,
   "id": "79b1db78",
   "metadata": {
    "slideshow": {
     "slide_type": "fragment"
    }
   },
   "outputs": [
    {
     "name": "stdout",
     "output_type": "stream",
     "text": [
      "[[1 2 3]\n",
      " [9 8 7]\n",
      " [6 5 4]]\n"
     ]
    }
   ],
   "source": [
    "x = np.array([1, 2, 3])\n",
    "grid = np.array([[9, 8, 7],\n",
    "                 [6, 5, 4]])\n",
    "\n",
    "print(np.vstack([x, grid]))"
   ]
  },
  {
   "cell_type": "code",
   "execution_count": 69,
   "id": "d37b9f9c",
   "metadata": {
    "slideshow": {
     "slide_type": "fragment"
    }
   },
   "outputs": [
    {
     "data": {
      "text/plain": [
       "array([[ 9,  8,  7, 99],\n",
       "       [ 6,  5,  4, 99]])"
      ]
     },
     "execution_count": 69,
     "metadata": {},
     "output_type": "execute_result"
    }
   ],
   "source": [
    "y = np.array([[99],\n",
    "              [99]])\n",
    "np.hstack([grid, y])"
   ]
  },
  {
   "cell_type": "markdown",
   "id": "48bb946e",
   "metadata": {
    "slideshow": {
     "slide_type": "subslide"
    }
   },
   "source": [
    "Przeciwieństwiem łączenia jest dzielenie i mamy tu do dyspozycji funkcję `np.split`\n",
    "\n",
    "Korzystając ze `np.split` musimy podać indeksy w których tablica ma być \"przecięta\"."
   ]
  },
  {
   "cell_type": "code",
   "execution_count": 71,
   "id": "b8e8127a",
   "metadata": {
    "slideshow": {
     "slide_type": "fragment"
    }
   },
   "outputs": [
    {
     "name": "stdout",
     "output_type": "stream",
     "text": [
      "[0 1 2] [3 4] [5 6 7 8 9]\n"
     ]
    }
   ],
   "source": [
    "x = np.arange(10)\n",
    "x1, x2, x3 = np.split(x, [3, 5])\n",
    "\n",
    "print(x1, x2, x3)  # zauważ, że dwa punkty dzielenia tworzą trzy tablice"
   ]
  },
  {
   "cell_type": "markdown",
   "id": "b6c94b90",
   "metadata": {
    "slideshow": {
     "slide_type": "slide"
    }
   },
   "source": [
    "### Wykonywanie obliczeń na tablicach\n",
    "\n",
    "Nauczymy się teraz wykonywać obliczenia na tablicach NumPy. Aby działania które wykonujemy były wykonywane efektywnie będziemy musieli zmienić nasze podejście do tego w jaki sposób myślimy o niektórych operacjach. Poznamy operacje wektorowe, które pozwolą nam pisać kod który wykonuje się szybko i sprawnie."
   ]
  },
  {
   "cell_type": "markdown",
   "id": "b8a51fa9",
   "metadata": {
    "slideshow": {
     "slide_type": "subslide"
    }
   },
   "source": [
    "Rozważmy funkcję wyliczającą odwrotności elementów w tablicy:"
   ]
  },
  {
   "cell_type": "code",
   "execution_count": 77,
   "id": "a1a75982",
   "metadata": {
    "slideshow": {
     "slide_type": "fragment"
    }
   },
   "outputs": [],
   "source": [
    "def compute_reciprocals(values):\n",
    "    output = np.empty(len(values))\n",
    "    for i, value in enumerate(values):\n",
    "        output[i] = 1.0 / value\n",
    "    return output"
   ]
  },
  {
   "cell_type": "code",
   "execution_count": 79,
   "id": "84d6d703",
   "metadata": {
    "slideshow": {
     "slide_type": "fragment"
    }
   },
   "outputs": [],
   "source": [
    "values = np.random.randint(1, 10, size=5)"
   ]
  },
  {
   "cell_type": "code",
   "execution_count": 80,
   "id": "10132b14",
   "metadata": {
    "slideshow": {
     "slide_type": "fragment"
    }
   },
   "outputs": [
    {
     "data": {
      "text/plain": [
       "array([1, 3, 4, 7, 8])"
      ]
     },
     "execution_count": 80,
     "metadata": {},
     "output_type": "execute_result"
    }
   ],
   "source": [
    "values"
   ]
  },
  {
   "cell_type": "code",
   "execution_count": 81,
   "id": "dc69a950",
   "metadata": {
    "slideshow": {
     "slide_type": "fragment"
    }
   },
   "outputs": [
    {
     "data": {
      "text/plain": [
       "array([1.        , 0.33333333, 0.25      , 0.14285714, 0.125     ])"
      ]
     },
     "execution_count": 81,
     "metadata": {},
     "output_type": "execute_result"
    }
   ],
   "source": [
    "compute_reciprocals(values)"
   ]
  },
  {
   "cell_type": "markdown",
   "id": "423141ab",
   "metadata": {
    "slideshow": {
     "slide_type": "subslide"
    }
   },
   "source": [
    "Spróbujmy wykonąć tą samą operację dla bardzo dużej tablicy:"
   ]
  },
  {
   "cell_type": "code",
   "execution_count": 82,
   "id": "8da4db81",
   "metadata": {
    "slideshow": {
     "slide_type": "fragment"
    }
   },
   "outputs": [],
   "source": [
    "big_array = np.random.randint(1, 100, size=1_000_000)"
   ]
  },
  {
   "cell_type": "code",
   "execution_count": 85,
   "id": "25e06f61",
   "metadata": {
    "slideshow": {
     "slide_type": "fragment"
    }
   },
   "outputs": [
    {
     "name": "stdout",
     "output_type": "stream",
     "text": [
      "968 ms ± 15.3 ms per loop (mean ± std. dev. of 7 runs, 1 loop each)\n"
     ]
    }
   ],
   "source": [
    "%timeit compute_reciprocals(big_array)"
   ]
  },
  {
   "cell_type": "markdown",
   "id": "110edc84",
   "metadata": {
    "slideshow": {
     "slide_type": "fragment"
    }
   },
   "source": [
    "Wykonanie tej operacji dla miliona elementów zajęło prawie kilka sekund! Jest to absurdalnie wolno biorąc pod uwagę obecne możliwości komputerów. Ta powolność jest spowodowana tym w jaki sposób działa Python - wykonując pojedynczą operację dla każdego elementu Python musi wykonać wiele działań w tle związanych z określaniem typu."
   ]
  },
  {
   "cell_type": "markdown",
   "id": "ed811e28",
   "metadata": {
    "slideshow": {
     "slide_type": "subslide"
    }
   },
   "source": [
    "Dla większości operacji NumPy pozwala nam korzystać z wbudowanych funkcji które wykonają się w sposób zwektoryzowany:"
   ]
  },
  {
   "cell_type": "code",
   "execution_count": 86,
   "id": "ecc99ae9",
   "metadata": {
    "slideshow": {
     "slide_type": "fragment"
    }
   },
   "outputs": [
    {
     "name": "stdout",
     "output_type": "stream",
     "text": [
      "1.01 ms ± 15 µs per loop (mean ± std. dev. of 7 runs, 1,000 loops each)\n"
     ]
    }
   ],
   "source": [
    "%timeit 1.0 / big_array  # ta sama operacja wykonana w sposób wektorowy"
   ]
  },
  {
   "cell_type": "markdown",
   "id": "67b3f7b1",
   "metadata": {
    "slideshow": {
     "slide_type": "subslide"
    }
   },
   "source": [
    "W ten sposób możemy wykonywać wszystkie podstawowe operacje na tablicach:"
   ]
  },
  {
   "cell_type": "code",
   "execution_count": 87,
   "id": "783ecf14",
   "metadata": {
    "slideshow": {
     "slide_type": "fragment"
    }
   },
   "outputs": [
    {
     "name": "stdout",
     "output_type": "stream",
     "text": [
      "x      = [0 1 2 3]\n",
      "x + 5  = [5 6 7 8]\n",
      "x - 5  = [-5 -4 -3 -2]\n",
      "x * 2  = [0 2 4 6]\n",
      "x / 2  = [0.  0.5 1.  1.5]\n",
      "x // 2 = [0 0 1 1]\n",
      "-x     = [ 0 -1 -2 -3]\n",
      "x ** 2 = [0 1 4 9]\n",
      "x % 2  = [0 1 0 1]\n"
     ]
    }
   ],
   "source": [
    "x = np.arange(4)\n",
    "print(\"x      =\", x)\n",
    "print(\"x + 5  =\", x + 5)\n",
    "print(\"x - 5  =\", x - 5)\n",
    "print(\"x * 2  =\", x * 2)\n",
    "print(\"x / 2  =\", x / 2)\n",
    "print(\"x // 2 =\", x // 2)\n",
    "print(\"-x     =\", -x)\n",
    "print(\"x ** 2 =\", x ** 2)\n",
    "print(\"x % 2  =\", x % 2)"
   ]
  },
  {
   "cell_type": "markdown",
   "id": "8015bcab",
   "metadata": {
    "slideshow": {
     "slide_type": "slide"
    }
   },
   "source": [
    "### Agregacje na tablicach"
   ]
  },
  {
   "cell_type": "markdown",
   "id": "cdd178ff",
   "metadata": {
    "slideshow": {
     "slide_type": "fragment"
    }
   },
   "source": [
    "NumPy oferuje nam wiele wbudowanych funkcji do wyliczania najczęściej stosowanych agregacji na danych:"
   ]
  },
  {
   "cell_type": "code",
   "execution_count": 89,
   "id": "9ffd86e6",
   "metadata": {
    "slideshow": {
     "slide_type": "fragment"
    }
   },
   "outputs": [
    {
     "name": "stdout",
     "output_type": "stream",
     "text": [
      "46.61093798397357 0.017078054344769944 0.9970935590203218\n"
     ]
    }
   ],
   "source": [
    "L = np.random.random(100)\n",
    "print(np.sum(L), np.min(L), np.max(L))"
   ]
  },
  {
   "cell_type": "markdown",
   "id": "24a77eb3",
   "metadata": {
    "slideshow": {
     "slide_type": "fragment"
    }
   },
   "source": [
    "Warto zwrócić uwagę, że korzystanie z funkcji NumPy jest dużo szybsze niż z wbudowanych funkcji Pythonowych:"
   ]
  },
  {
   "cell_type": "code",
   "execution_count": 90,
   "id": "4d5722a9",
   "metadata": {
    "slideshow": {
     "slide_type": "fragment"
    }
   },
   "outputs": [
    {
     "name": "stdout",
     "output_type": "stream",
     "text": [
      "1.44 µs ± 16.8 ns per loop (mean ± std. dev. of 7 runs, 1,000,000 loops each)\n",
      "4.21 µs ± 23 ns per loop (mean ± std. dev. of 7 runs, 100,000 loops each)\n"
     ]
    }
   ],
   "source": [
    "%timeit np.sum(L)\n",
    "%timeit sum(L)"
   ]
  },
  {
   "cell_type": "markdown",
   "id": "db48809e",
   "metadata": {
    "slideshow": {
     "slide_type": "subslide"
    }
   },
   "source": [
    "Agregacje możemy wykonywać również po poszczególnych wymiarach:"
   ]
  },
  {
   "cell_type": "code",
   "execution_count": 91,
   "id": "e754e749",
   "metadata": {
    "slideshow": {
     "slide_type": "fragment"
    }
   },
   "outputs": [
    {
     "name": "stdout",
     "output_type": "stream",
     "text": [
      "[[8 3 3 7]\n",
      " [5 5 0 1]\n",
      " [2 8 3 5]]\n"
     ]
    }
   ],
   "source": [
    "M = np.random.randint(10, size=(3, 4))\n",
    "print(M)"
   ]
  },
  {
   "cell_type": "code",
   "execution_count": 92,
   "id": "b47d1271",
   "metadata": {
    "slideshow": {
     "slide_type": "fragment"
    }
   },
   "outputs": [
    {
     "name": "stdout",
     "output_type": "stream",
     "text": [
      "[15 16  6 13]\n",
      "[3 0 2]\n"
     ]
    }
   ],
   "source": [
    "print(M.sum(axis=0))\n",
    "print(M.min(axis=1))"
   ]
  },
  {
   "cell_type": "markdown",
   "id": "d874b0e0",
   "metadata": {
    "slideshow": {
     "slide_type": "slide"
    }
   },
   "source": [
    "### Porównywanie, maski\n",
    "\n",
    "Stosując operator porównania na tablicy zawsze otrzymamy nową tablicę zawierającą typ `bool`."
   ]
  },
  {
   "cell_type": "code",
   "execution_count": 93,
   "id": "bf218a2b",
   "metadata": {
    "slideshow": {
     "slide_type": "fragment"
    }
   },
   "outputs": [],
   "source": [
    "x = np.array([1, 2, 3, 4, 5])"
   ]
  },
  {
   "cell_type": "code",
   "execution_count": 94,
   "id": "88fd74aa",
   "metadata": {
    "slideshow": {
     "slide_type": "fragment"
    }
   },
   "outputs": [
    {
     "data": {
      "text/plain": [
       "array([ True,  True, False, False, False])"
      ]
     },
     "execution_count": 94,
     "metadata": {},
     "output_type": "execute_result"
    }
   ],
   "source": [
    "x < 3"
   ]
  },
  {
   "cell_type": "code",
   "execution_count": 95,
   "id": "f353e6e7",
   "metadata": {
    "slideshow": {
     "slide_type": "fragment"
    }
   },
   "outputs": [
    {
     "data": {
      "text/plain": [
       "array([False, False, False,  True,  True])"
      ]
     },
     "execution_count": 95,
     "metadata": {},
     "output_type": "execute_result"
    }
   ],
   "source": [
    "x > 3"
   ]
  },
  {
   "cell_type": "code",
   "execution_count": 96,
   "id": "c019a7f4",
   "metadata": {
    "slideshow": {
     "slide_type": "fragment"
    }
   },
   "outputs": [
    {
     "data": {
      "text/plain": [
       "array([False, False,  True, False, False])"
      ]
     },
     "execution_count": 96,
     "metadata": {},
     "output_type": "execute_result"
    }
   ],
   "source": [
    "x == 3"
   ]
  },
  {
   "cell_type": "markdown",
   "id": "d25126d6",
   "metadata": {
    "slideshow": {
     "slide_type": "subslide"
    }
   },
   "source": [
    "Tablice wartości logicznych często przydają się w kombinacji z innymi funkcjami np:"
   ]
  },
  {
   "cell_type": "code",
   "execution_count": 97,
   "id": "fd922610",
   "metadata": {
    "slideshow": {
     "slide_type": "fragment"
    }
   },
   "outputs": [],
   "source": [
    "x = np.random.randint(10, size=(4, 4))"
   ]
  },
  {
   "cell_type": "code",
   "execution_count": 98,
   "id": "4b0c1d66",
   "metadata": {
    "slideshow": {
     "slide_type": "subslide"
    }
   },
   "outputs": [
    {
     "data": {
      "text/plain": [
       "array([[4, 9, 2, 9],\n",
       "       [8, 6, 2, 1],\n",
       "       [3, 5, 5, 9],\n",
       "       [6, 8, 4, 4]])"
      ]
     },
     "execution_count": 98,
     "metadata": {},
     "output_type": "execute_result"
    }
   ],
   "source": [
    "x"
   ]
  },
  {
   "cell_type": "code",
   "execution_count": 99,
   "id": "9e75e979",
   "metadata": {
    "slideshow": {
     "slide_type": "fragment"
    }
   },
   "outputs": [
    {
     "data": {
      "text/plain": [
       "9"
      ]
     },
     "execution_count": 99,
     "metadata": {},
     "output_type": "execute_result"
    }
   ],
   "source": [
    "# Ile wartości w tablicy jest mniejszych niż 6?\n",
    "np.count_nonzero(x < 6)"
   ]
  },
  {
   "cell_type": "code",
   "execution_count": 100,
   "id": "3a831a56",
   "metadata": {
    "slideshow": {
     "slide_type": "fragment"
    }
   },
   "outputs": [
    {
     "data": {
      "text/plain": [
       "array([2, 2, 3, 2])"
      ]
     },
     "execution_count": 100,
     "metadata": {},
     "output_type": "execute_result"
    }
   ],
   "source": [
    "# Ile wartości w każdym wierszu jest mniejsze niż 6?\n",
    "np.sum(x < 6, axis=1)"
   ]
  },
  {
   "cell_type": "code",
   "execution_count": 101,
   "id": "69d83613",
   "metadata": {
    "slideshow": {
     "slide_type": "fragment"
    }
   },
   "outputs": [
    {
     "data": {
      "text/plain": [
       "False"
      ]
     },
     "execution_count": 101,
     "metadata": {},
     "output_type": "execute_result"
    }
   ],
   "source": [
    "# Czy jest wartość mniejsza niż 0?\n",
    "np.any(x < 0)"
   ]
  },
  {
   "cell_type": "markdown",
   "id": "ac9a0b77",
   "metadata": {
    "slideshow": {
     "slide_type": "subslide"
    }
   },
   "source": [
    "Tablic logicznych możemy również używać jako masek do wybierania wartości z tablicy które spełniają określone warunki:"
   ]
  },
  {
   "cell_type": "code",
   "execution_count": 102,
   "id": "34d3acb9",
   "metadata": {
    "slideshow": {
     "slide_type": "fragment"
    }
   },
   "outputs": [
    {
     "data": {
      "text/plain": [
       "array([[4, 9, 2, 9],\n",
       "       [8, 6, 2, 1],\n",
       "       [3, 5, 5, 9],\n",
       "       [6, 8, 4, 4]])"
      ]
     },
     "execution_count": 102,
     "metadata": {},
     "output_type": "execute_result"
    }
   ],
   "source": [
    "x"
   ]
  },
  {
   "cell_type": "code",
   "execution_count": 106,
   "id": "25e6bcab",
   "metadata": {
    "slideshow": {
     "slide_type": "fragment"
    }
   },
   "outputs": [
    {
     "data": {
      "text/plain": [
       "array([4, 2, 2, 1, 3, 4, 4])"
      ]
     },
     "execution_count": 106,
     "metadata": {},
     "output_type": "execute_result"
    }
   ],
   "source": [
    "x[x < 5]  # Elementy z x które są mniejsze niż 5"
   ]
  },
  {
   "cell_type": "markdown",
   "id": "fb2ebc20",
   "metadata": {
    "slideshow": {
     "slide_type": "slide"
    }
   },
   "source": [
    "### Fancy indexing\n",
    "\n",
    "Fancy indexing polega na przekazywaniu tablicy indeksów aby otrzymać wiele elementów tablicy na raz. "
   ]
  },
  {
   "cell_type": "code",
   "execution_count": 109,
   "id": "d213775a",
   "metadata": {
    "slideshow": {
     "slide_type": "fragment"
    }
   },
   "outputs": [],
   "source": [
    "x = np.random.randint(100, size=10)"
   ]
  },
  {
   "cell_type": "code",
   "execution_count": 110,
   "id": "15579258",
   "metadata": {
    "slideshow": {
     "slide_type": "fragment"
    }
   },
   "outputs": [
    {
     "name": "stdout",
     "output_type": "stream",
     "text": [
      "[83 90 62 66 74 62 15 92 29 67]\n"
     ]
    }
   ],
   "source": [
    "print(x)"
   ]
  },
  {
   "cell_type": "markdown",
   "id": "f0600166",
   "metadata": {
    "slideshow": {
     "slide_type": "subslide"
    }
   },
   "source": [
    "Jeżeli chcemy wybrać 3, 7 i 2 element możemy to zrobić na dwa sposoby:"
   ]
  },
  {
   "cell_type": "code",
   "execution_count": 111,
   "id": "bfeb5f1f",
   "metadata": {
    "slideshow": {
     "slide_type": "fragment"
    }
   },
   "outputs": [
    {
     "data": {
      "text/plain": [
       "[66, 92, 62]"
      ]
     },
     "execution_count": 111,
     "metadata": {},
     "output_type": "execute_result"
    }
   ],
   "source": [
    "# Sposób pierwszy\n",
    "[x[3], x[7], x[2]]"
   ]
  },
  {
   "cell_type": "code",
   "execution_count": 112,
   "id": "7509cf24",
   "metadata": {
    "slideshow": {
     "slide_type": "fragment"
    }
   },
   "outputs": [
    {
     "data": {
      "text/plain": [
       "array([66, 92, 74])"
      ]
     },
     "execution_count": 112,
     "metadata": {},
     "output_type": "execute_result"
    }
   ],
   "source": [
    "# Fancy indexing\n",
    "ind = [3, 7, 4]\n",
    "x[ind]"
   ]
  },
  {
   "cell_type": "markdown",
   "id": "24794f3f",
   "metadata": {
    "slideshow": {
     "slide_type": "subslide"
    }
   },
   "source": [
    "Kiedy korzystamy z fancy indexingu wymiary tablicy wynikowej są takie jak tablicy indeksów:"
   ]
  },
  {
   "cell_type": "code",
   "execution_count": 113,
   "id": "1191d2a5",
   "metadata": {
    "slideshow": {
     "slide_type": "fragment"
    }
   },
   "outputs": [
    {
     "data": {
      "text/plain": [
       "array([[66, 92],\n",
       "       [74, 62]])"
      ]
     },
     "execution_count": 113,
     "metadata": {},
     "output_type": "execute_result"
    }
   ],
   "source": [
    "ind = np.array([[3, 7],\n",
    "                [4, 5]])\n",
    "x[ind]"
   ]
  },
  {
   "cell_type": "markdown",
   "id": "d17d9676",
   "metadata": {
    "slideshow": {
     "slide_type": "subslide"
    }
   },
   "source": [
    "Rodzaje indeksowań można ze sobą mieszać:"
   ]
  },
  {
   "cell_type": "code",
   "execution_count": 114,
   "id": "167221b9",
   "metadata": {
    "slideshow": {
     "slide_type": "fragment"
    }
   },
   "outputs": [],
   "source": [
    "x = np.random.randint(100, size=(5, 5))"
   ]
  },
  {
   "cell_type": "code",
   "execution_count": 115,
   "id": "97777730",
   "metadata": {
    "slideshow": {
     "slide_type": "fragment"
    }
   },
   "outputs": [
    {
     "data": {
      "text/plain": [
       "array([[75, 10, 19, 21, 48],\n",
       "       [17, 17, 48, 15,  9],\n",
       "       [73,  1, 62, 27, 20],\n",
       "       [74,  7, 63, 16, 16],\n",
       "       [23, 64, 60, 40, 50]])"
      ]
     },
     "execution_count": 115,
     "metadata": {},
     "output_type": "execute_result"
    }
   ],
   "source": [
    "x"
   ]
  },
  {
   "cell_type": "code",
   "execution_count": 116,
   "id": "f0ce4c8c",
   "metadata": {
    "slideshow": {
     "slide_type": "fragment"
    }
   },
   "outputs": [
    {
     "data": {
      "text/plain": [
       "array([73,  1, 62])"
      ]
     },
     "execution_count": 116,
     "metadata": {},
     "output_type": "execute_result"
    }
   ],
   "source": [
    "x[2, [0, 1, 2]]"
   ]
  },
  {
   "cell_type": "code",
   "execution_count": 117,
   "id": "77528725",
   "metadata": {
    "slideshow": {
     "slide_type": "fragment"
    }
   },
   "outputs": [
    {
     "data": {
      "text/plain": [
       "array([[48, 17, 17],\n",
       "       [62, 73,  1],\n",
       "       [63, 74,  7],\n",
       "       [60, 23, 64]])"
      ]
     },
     "execution_count": 117,
     "metadata": {},
     "output_type": "execute_result"
    }
   ],
   "source": [
    "x[1:, [2, 0, 1]]"
   ]
  },
  {
   "cell_type": "markdown",
   "id": "b1a3ed77",
   "metadata": {
    "slideshow": {
     "slide_type": "slide"
    }
   },
   "source": [
    "### Sortowanie tablic\n",
    "\n",
    "NumPy ma również swoje wbudowane funkcje służące do sortowania tablic:"
   ]
  },
  {
   "cell_type": "code",
   "execution_count": 118,
   "id": "020cce1f",
   "metadata": {
    "slideshow": {
     "slide_type": "fragment"
    }
   },
   "outputs": [],
   "source": [
    "x = np.random.randint(100, size=5)"
   ]
  },
  {
   "cell_type": "code",
   "execution_count": 119,
   "id": "dc33e36a",
   "metadata": {
    "slideshow": {
     "slide_type": "fragment"
    }
   },
   "outputs": [
    {
     "data": {
      "text/plain": [
       "array([24, 99, 65,  9,  7])"
      ]
     },
     "execution_count": 119,
     "metadata": {},
     "output_type": "execute_result"
    }
   ],
   "source": [
    "x"
   ]
  },
  {
   "cell_type": "code",
   "execution_count": 122,
   "id": "1b7f9995",
   "metadata": {
    "slideshow": {
     "slide_type": "fragment"
    }
   },
   "outputs": [
    {
     "data": {
      "text/plain": [
       "array([ 7,  9, 24, 65, 99])"
      ]
     },
     "execution_count": 122,
     "metadata": {},
     "output_type": "execute_result"
    }
   ],
   "source": [
    "np.sort(x)"
   ]
  },
  {
   "cell_type": "markdown",
   "id": "19378118",
   "metadata": {
    "slideshow": {
     "slide_type": "subslide"
    }
   },
   "source": [
    "Sortowanie można również przeprowadzić w miejscu:"
   ]
  },
  {
   "cell_type": "code",
   "execution_count": 125,
   "id": "1e73cb96",
   "metadata": {
    "slideshow": {
     "slide_type": "fragment"
    }
   },
   "outputs": [
    {
     "name": "stdout",
     "output_type": "stream",
     "text": [
      "[24 99 65  9  7]\n"
     ]
    }
   ],
   "source": [
    "print(x)"
   ]
  },
  {
   "cell_type": "code",
   "execution_count": 128,
   "id": "6a007b21",
   "metadata": {
    "slideshow": {
     "slide_type": "fragment"
    }
   },
   "outputs": [],
   "source": [
    "x.sort()"
   ]
  },
  {
   "cell_type": "code",
   "execution_count": 129,
   "id": "b53c1995",
   "metadata": {
    "slideshow": {
     "slide_type": "fragment"
    }
   },
   "outputs": [
    {
     "name": "stdout",
     "output_type": "stream",
     "text": [
      "[ 7  9 24 65 99]\n"
     ]
    }
   ],
   "source": [
    "print(x)"
   ]
  },
  {
   "cell_type": "markdown",
   "id": "567287e5",
   "metadata": {
    "slideshow": {
     "slide_type": "subslide"
    }
   },
   "source": [
    "Istnieje również funkcja `np.argsort` która zwraca indeksy posortowanych elementów:"
   ]
  },
  {
   "cell_type": "code",
   "execution_count": 130,
   "id": "0ba5bb33",
   "metadata": {
    "slideshow": {
     "slide_type": "fragment"
    }
   },
   "outputs": [],
   "source": [
    "x = np.random.randint(100, size=5)"
   ]
  },
  {
   "cell_type": "code",
   "execution_count": 131,
   "id": "d4a13655",
   "metadata": {
    "slideshow": {
     "slide_type": "fragment"
    }
   },
   "outputs": [
    {
     "name": "stdout",
     "output_type": "stream",
     "text": [
      "[38 50 85 97 77]\n"
     ]
    }
   ],
   "source": [
    "print(x)"
   ]
  },
  {
   "cell_type": "code",
   "execution_count": 132,
   "id": "3c22cf54",
   "metadata": {
    "slideshow": {
     "slide_type": "fragment"
    }
   },
   "outputs": [],
   "source": [
    "i = np.argsort(x)"
   ]
  },
  {
   "cell_type": "code",
   "execution_count": 133,
   "id": "22eeceb7",
   "metadata": {
    "slideshow": {
     "slide_type": "fragment"
    }
   },
   "outputs": [
    {
     "name": "stdout",
     "output_type": "stream",
     "text": [
      "[0 1 4 2 3]\n"
     ]
    }
   ],
   "source": [
    "print(i)"
   ]
  },
  {
   "cell_type": "code",
   "execution_count": 134,
   "id": "04de3fd1",
   "metadata": {
    "slideshow": {
     "slide_type": "fragment"
    }
   },
   "outputs": [
    {
     "data": {
      "text/plain": [
       "array([38, 50, 77, 85, 97])"
      ]
     },
     "execution_count": 134,
     "metadata": {},
     "output_type": "execute_result"
    }
   ],
   "source": [
    "x[i]  # Fancy indexing daje nam posortowaną tablicę"
   ]
  }
 ],
 "metadata": {
  "celltoolbar": "Slideshow",
  "kernelspec": {
   "display_name": "Python 3 (ipykernel)",
   "language": "python",
   "name": "python3"
  },
  "language_info": {
   "codemirror_mode": {
    "name": "ipython",
    "version": 3
   },
   "file_extension": ".py",
   "mimetype": "text/x-python",
   "name": "python",
   "nbconvert_exporter": "python",
   "pygments_lexer": "ipython3",
   "version": "3.10.2"
  }
 },
 "nbformat": 4,
 "nbformat_minor": 5
}

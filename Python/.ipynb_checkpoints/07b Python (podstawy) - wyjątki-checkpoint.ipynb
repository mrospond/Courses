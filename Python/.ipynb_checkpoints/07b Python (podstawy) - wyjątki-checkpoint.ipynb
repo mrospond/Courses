{
 "cells": [
  {
   "cell_type": "markdown",
   "metadata": {
    "slideshow": {
     "slide_type": "slide"
    }
   },
   "source": [
    "# Python (podstawy) - wyjątki\n",
    "_Mikołaj Leszczuk_\n",
    "![](https://inventyourshit.com/wp-content/uploads/2020/11/4mfiyy.jpg)\n",
    "![](https://i.creativecommons.org/l/by/4.0/88x31.png)"
   ]
  },
  {
   "cell_type": "markdown",
   "metadata": {
    "slideshow": {
     "slide_type": "slide"
    }
   },
   "source": [
    "## Ćwiczenia"
   ]
  },
  {
   "cell_type": "markdown",
   "metadata": {
    "slideshow": {
     "slide_type": "slide"
    }
   },
   "source": [
    "### Błędy i wyjątki"
   ]
  },
  {
   "cell_type": "markdown",
   "metadata": {
    "slideshow": {
     "slide_type": "slide"
    }
   },
   "source": [
    "#### Ćwiczenie"
   ]
  },
  {
   "cell_type": "markdown",
   "metadata": {
    "slideshow": {
     "slide_type": "fragment"
    }
   },
   "source": [
    "Podczas pisania funkcji najlepiej jest przeprowadzić walidację liczb.\n",
    "\n",
    "Jeśli użytkownicy wprowadzą tekst, pojawi się błąd podczas próby konwersji na `int`.\n",
    "\n",
    "Napisz program, który poprosi użytkownika o podanie dwóch liczb.\n",
    "\n",
    "Dodaj i wydrukuj wynik.\n",
    "\n",
    "Jeśli nie zostanie wprowadzona liczba, zwróć komunikat o błędzie i poproś ponownie."
   ]
  },
  {
   "cell_type": "markdown",
   "metadata": {
    "slideshow": {
     "slide_type": "slide"
    }
   },
   "source": [
    "#### Rozwiązanie"
   ]
  },
  {
   "cell_type": "code",
   "execution_count": 1,
   "metadata": {
    "slideshow": {
     "slide_type": "fragment"
    }
   },
   "outputs": [
    {
     "name": "stdout",
     "output_type": "stream",
     "text": [
      "Liczba 1: a\n",
      "Wprowadź dane liczbowe\n",
      "Liczba 1: 1\n",
      "Liczba 2: a\n",
      "Wprowadź dane liczbowe\n",
      "Liczba 1: 1\n",
      "Liczba 2: 2\n",
      "Suma to: 3\n"
     ]
    }
   ],
   "source": [
    "while True:\n",
    "    try:\n",
    "        num1 = int(input('Liczba 1: '))\n",
    "        num2 = int(input('Liczba 2: '))\n",
    "        print(f'Suma to: {num1+num2}')\n",
    "        break\n",
    "    except ValueError:\n",
    "        print('Wprowadź dane liczbowe')"
   ]
  },
  {
   "cell_type": "markdown",
   "metadata": {
    "slideshow": {
     "slide_type": "slide"
    }
   },
   "source": [
    "### Wyjątek `ZeroDivisionError` z instrukcjami `try except`"
   ]
  },
  {
   "cell_type": "markdown",
   "metadata": {
    "slideshow": {
     "slide_type": "slide"
    }
   },
   "source": [
    "#### Ćwiczenie"
   ]
  },
  {
   "cell_type": "markdown",
   "metadata": {
    "slideshow": {
     "slide_type": "fragment"
    }
   },
   "source": [
    "Podziel przez siebie dwie liczby, a wynik przypisz do `result`.\n",
    "\n",
    "Umieść:\n",
    "\n",
    "```python\n",
    "result = \"Nie możesz podzielić przez 0\"\n",
    "```\n",
    "\n",
    "we właściwym miejscu, aby program uniknął `ZeroDivisionError`\n",
    "\n",
    "* Podpowiedź 1: Po prostu umieść przypisanie wartości dla wyniku po linii `Except`\n",
    "* Podpowiedź 2: Zwróć uwagę na wcięcia"
   ]
  },
  {
   "cell_type": "markdown",
   "metadata": {
    "slideshow": {
     "slide_type": "slide"
    }
   },
   "source": [
    "#### Rozwiązanie"
   ]
  },
  {
   "cell_type": "code",
   "execution_count": 4,
   "metadata": {
    "slideshow": {
     "slide_type": "fragment"
    }
   },
   "outputs": [
    {
     "name": "stdout",
     "output_type": "stream",
     "text": [
      "Nie możesz podzielić przez 0\n"
     ]
    }
   ],
   "source": [
    "a = 5\n",
    "b = 0\n",
    "try:\n",
    "    result = a / b\n",
    "except ZeroDivisionError:\n",
    "    result = \"Nie możesz podzielić przez 0\"\n",
    "\n",
    "print(result)"
   ]
  },
  {
   "cell_type": "markdown",
   "metadata": {
    "slideshow": {
     "slide_type": "slide"
    }
   },
   "source": [
    "### Polecenie `except`, który nic nie robi"
   ]
  },
  {
   "cell_type": "markdown",
   "metadata": {
    "slideshow": {
     "slide_type": "slide"
    }
   },
   "source": [
    "#### Ćwiczenie"
   ]
  },
  {
   "cell_type": "markdown",
   "metadata": {
    "slideshow": {
     "slide_type": "fragment"
    }
   },
   "source": [
    "Napisz dowolny kod.\n",
    "\n",
    "Wychwyć w nim wyjątek, ale nic nie rób."
   ]
  },
  {
   "cell_type": "markdown",
   "metadata": {
    "slideshow": {
     "slide_type": "slide"
    }
   },
   "source": [
    "#### Rozwiązanie"
   ]
  },
  {
   "cell_type": "code",
   "execution_count": 7,
   "metadata": {
    "slideshow": {
     "slide_type": "fragment"
    }
   },
   "outputs": [],
   "source": [
    "a = [1, 3, 5]\n",
    "try:\n",
    "    print(a[3])  # zwraca wartość pozycji z określonym indeksem\n",
    "except IndexError:\n",
    "    pass"
   ]
  },
  {
   "cell_type": "markdown",
   "metadata": {
    "slideshow": {
     "slide_type": "slide"
    }
   },
   "source": [
    "### Wyjątek `Exception` z instrukcjami `try except`"
   ]
  },
  {
   "cell_type": "markdown",
   "metadata": {
    "slideshow": {
     "slide_type": "slide"
    }
   },
   "source": [
    "#### Ćwiczenie"
   ]
  },
  {
   "cell_type": "markdown",
   "metadata": {
    "slideshow": {
     "slide_type": "fragment"
    }
   },
   "source": [
    "Spróbuj dodać `int` do `str`, a wynik przypisać do `msg`.\n",
    "\n",
    "Umieść:\n",
    "\n",
    "```python\n",
    "msg = \"Nie możesz dodać int do str\"\n",
    "```\n",
    "\n",
    "aby program uniknął błędu `BaseException`.\n",
    "\n",
    "Możesz użyć wyjątku `Exception`, chociaż zwykle powinno się ostrożnie używać tak potężnych instrukcji wyjątków."
   ]
  },
  {
   "cell_type": "markdown",
   "metadata": {
    "slideshow": {
     "slide_type": "slide"
    }
   },
   "source": [
    "#### Rozwiązanie"
   ]
  },
  {
   "cell_type": "code",
   "execution_count": 8,
   "metadata": {
    "slideshow": {
     "slide_type": "fragment"
    }
   },
   "outputs": [
    {
     "name": "stdout",
     "output_type": "stream",
     "text": [
      "Nie możesz dodać int do str\n"
     ]
    }
   ],
   "source": [
    "a = \"Hello World!\"\n",
    "try:\n",
    "    msg = a + 10\n",
    "except TypeError:  # Niezbyt szeroka klauzula wyjątku\n",
    "    msg = \"Nie możesz dodać int do str\"\n",
    "print(msg)"
   ]
  },
  {
   "cell_type": "markdown",
   "metadata": {
    "slideshow": {
     "slide_type": "slide"
    }
   },
   "source": [
    "### Wyjątek `IndexError` w instrukcjach `try except`"
   ]
  },
  {
   "cell_type": "markdown",
   "metadata": {
    "slideshow": {
     "slide_type": "slide"
    }
   },
   "source": [
    "#### Ćwiczenie"
   ]
  },
  {
   "cell_type": "markdown",
   "metadata": {
    "slideshow": {
     "slide_type": "fragment"
    }
   },
   "source": [
    "Stwórz trójelementową listę.\n",
    "\n",
    "Spróbuj do `msg` przypisać piąty element.\n",
    "\n",
    "Umieść:\n",
    "\n",
    "```python\n",
    "msg = \"Jesteś poza zakresem listy\"\n",
    "```\n",
    "\n",
    "aby uniknąć wyjątku `IndexError`."
   ]
  },
  {
   "cell_type": "markdown",
   "metadata": {
    "slideshow": {
     "slide_type": "slide"
    }
   },
   "source": [
    "#### Rozwiązanie"
   ]
  },
  {
   "cell_type": "code",
   "execution_count": 9,
   "metadata": {
    "slideshow": {
     "slide_type": "fragment"
    }
   },
   "outputs": [
    {
     "name": "stdout",
     "output_type": "stream",
     "text": [
      "Jesteś poza zakresem listy (list index out of range)\n"
     ]
    }
   ],
   "source": [
    "lst = [5, 10, 20]\n",
    "\n",
    "try:\n",
    "    msg = lst[5]\n",
    "except IndexError as error:\n",
    "    msg = \"Jesteś poza zakresem listy (\" + str(error) + \")\"\n",
    "print(msg)"
   ]
  },
  {
   "cell_type": "markdown",
   "metadata": {
    "slideshow": {
     "slide_type": "slide"
    }
   },
   "source": [
    "### Słowo kluczowe `else`"
   ]
  },
  {
   "cell_type": "markdown",
   "metadata": {
    "slideshow": {
     "slide_type": "slide"
    }
   },
   "source": [
    "#### Ćwiczenie"
   ]
  },
  {
   "cell_type": "markdown",
   "metadata": {
    "slideshow": {
     "slide_type": "fragment"
    }
   },
   "source": [
    "Spróbuj otworzyć do czytania plik (podpowiedź: `f = open(arg, \"r\")`).\n",
    "\n",
    "W razie braku możliwości otwarcia pliku, obsłuż wyjątek.\n",
    "\n",
    "W przeciwnym przypadku wypisz:\n",
    "\n",
    "* Nazwę pliku;\n",
    "* Liczbę wierszy (podpowiedź: `len(f.readlines())`).\n",
    "\n",
    "Na koniec zamknij ten plik (podpowiedź: `f.close()`)."
   ]
  },
  {
   "cell_type": "markdown",
   "metadata": {
    "slideshow": {
     "slide_type": "slide"
    }
   },
   "source": [
    "#### Rozwiązanie"
   ]
  },
  {
   "cell_type": "code",
   "execution_count": 10,
   "metadata": {
    "slideshow": {
     "slide_type": "subslide"
    }
   },
   "outputs": [
    {
     "name": "stdout",
     "output_type": "stream",
     "text": [
      "Nie mogę otworzyć pliku: 'nieistniejacy_plik'\n"
     ]
    }
   ],
   "source": [
    "arg = \"nieistniejacy_plik\"\n",
    "try:\n",
    "    f = open(arg, \"r\")\n",
    "except IOError:\n",
    "    print(f\"Nie mogę otworzyć pliku: '{arg}'\")\n",
    "else:\n",
    "    print(f\"Plik: '{arg}' ma {len(f.readlines())} wierszy\")\n",
    "    f.close()"
   ]
  },
  {
   "cell_type": "code",
   "execution_count": 11,
   "metadata": {
    "slideshow": {
     "slide_type": "subslide"
    }
   },
   "outputs": [
    {
     "name": "stdout",
     "output_type": "stream",
     "text": [
      "Plik: '07b Python (podstawy) - wyjątki.ipynb' ma 779 wierszy\n"
     ]
    }
   ],
   "source": [
    "arg = \"07b Python (podstawy) - wyjątki.ipynb\"\n",
    "try:\n",
    "    f = open(arg, \"r\")\n",
    "except IOError:\n",
    "    print(f\"Nie mogę otworzyć pliku: '{arg}'\")\n",
    "else:\n",
    "    print(f\"Plik: '{arg}' ma {len(f.readlines())} wierszy\")\n",
    "    f.close()"
   ]
  },
  {
   "cell_type": "markdown",
   "metadata": {
    "slideshow": {
     "slide_type": "slide"
    }
   },
   "source": [
    "### Słowo kluczowe `finally`"
   ]
  },
  {
   "cell_type": "markdown",
   "metadata": {
    "slideshow": {
     "slide_type": "slide"
    }
   },
   "source": [
    "#### Ćwiczenie"
   ]
  },
  {
   "cell_type": "markdown",
   "metadata": {
    "slideshow": {
     "slide_type": "fragment"
    }
   },
   "source": [
    "Użyj `finally` do zamykania obiektów i czyszczenia zasobów.\n",
    "\n",
    "Spróbuj otworzyć i zapisać (podpowiedź: `write`) w pliku, którego nie można zapisać.\n",
    "\n",
    "Zapewnij, aby program mógł kontynuować bez pozostawiania otwartego obiektu pliku."
   ]
  },
  {
   "cell_type": "markdown",
   "metadata": {
    "slideshow": {
     "slide_type": "slide"
    }
   },
   "source": [
    "#### Rozwiązanie"
   ]
  },
  {
   "cell_type": "code",
   "execution_count": null,
   "metadata": {
    "slideshow": {
     "slide_type": "fragment"
    }
   },
   "outputs": [],
   "source": [
    "try:\n",
    "    f = open(\"demofile.txt\", \"r\")\n",
    "    f.write(\"Lorum Ipsum\")\n",
    "except IOError as err:\n",
    "    print(f\"Coś poszło nie tak podczas zapisywania do pliku ({err})\")\n",
    "finally:\n",
    "    f.close()"
   ]
  },
  {
   "cell_type": "markdown",
   "metadata": {
    "slideshow": {
     "slide_type": "slide"
    }
   },
   "source": [
    "#### Ćwiczenie"
   ]
  },
  {
   "cell_type": "markdown",
   "metadata": {
    "slideshow": {
     "slide_type": "fragment"
    }
   },
   "source": [
    "Napisz funkcję dzielącą jej argument pierwszy przez drugi.\n",
    "\n",
    "Spróbuj wykonać działanie i zwrócić wynik.\n",
    "\n",
    "W przypadku błędu dzielenia przez zero, wypisz komunikat o błędzie.\n",
    "\n",
    "Wypisz komunikat, który zawsze się wypisze.\n",
    "\n",
    "Wywołaj funkcję z różnymi argumentami."
   ]
  },
  {
   "cell_type": "markdown",
   "metadata": {
    "slideshow": {
     "slide_type": "slide"
    }
   },
   "source": [
    "#### Rozwiązanie"
   ]
  },
  {
   "cell_type": "code",
   "execution_count": null,
   "metadata": {
    "slideshow": {
     "slide_type": "fragment"
    }
   },
   "outputs": [],
   "source": [
    "def divide(a, b):\n",
    "    try:\n",
    "        c = a / b\n",
    "        return c\n",
    "    except ZeroDivisionError:\n",
    "        print(\"Próba dzielenia przez zero\")\n",
    "    finally:\n",
    "        print(\"Zawsze wykonujemy klauzule 'finally'\")\n",
    "\n",
    "print(divide(1, 0))"
   ]
  },
  {
   "cell_type": "markdown",
   "metadata": {
    "slideshow": {
     "slide_type": "skip"
    }
   },
   "source": [
    "#### Ćwiczenie"
   ]
  },
  {
   "cell_type": "markdown",
   "metadata": {
    "slideshow": {
     "slide_type": "skip"
    }
   },
   "source": [
    "Użyj wszystkie 4 elementy struktury obsługi wyjątków przy otwieraniu plików.\n",
    "\n",
    "Spróbuj otworzyć do czytania plik.\n",
    "\n",
    "W razie braku możliwości otwarcia pliku, obsłuż wyjątek.\n",
    "\n",
    "W przeciwnym przypadku wypisz:\n",
    "\n",
    "* Nazwę pliku;\n",
    "* Liczbę wierszy.\n",
    "\n",
    "Na koniec zamknij ten plik.\n",
    "\n",
    "Jeżeli dany plik nie jest zamknięty (podpowiedź: `f.closed`), to go zamknij."
   ]
  },
  {
   "cell_type": "markdown",
   "metadata": {
    "slideshow": {
     "slide_type": "skip"
    }
   },
   "source": [
    "#### Rozwiązanie"
   ]
  },
  {
   "cell_type": "code",
   "execution_count": null,
   "metadata": {
    "slideshow": {
     "slide_type": "skip"
    }
   },
   "outputs": [],
   "source": [
    "arg = \"nieistniejacy_plik\"\n",
    "try:\n",
    "    f = open(arg, \"r\")\n",
    "except IOError:\n",
    "    print(\"Nie mogę otworzyć {}\".format(arg))\n",
    "else:\n",
    "    print(\"Plik {} ma {} wierszy\".format(arg, len(f.readlines())))\n",
    "    f.close()\n",
    "finally:\n",
    "    if not f.closed:\n",
    "        f.close()"
   ]
  },
  {
   "cell_type": "code",
   "execution_count": null,
   "metadata": {
    "slideshow": {
     "slide_type": "skip"
    }
   },
   "outputs": [],
   "source": [
    "arg = \"07b Python (podstawy) - wyjątki.ipynb\"\n",
    "try:\n",
    "    f = open(arg, \"r\")\n",
    "except IOError:\n",
    "    print(\"Nie mogę otworzyć {}\".format(arg))\n",
    "else:\n",
    "    print(\" {} ma {} wierszy\".format(arg, len(f.readlines())))\n",
    "    f.close()\n",
    "finally:\n",
    "    if not f.closed:\n",
    "        f.close()"
   ]
  },
  {
   "cell_type": "code",
   "execution_count": null,
   "metadata": {
    "slideshow": {
     "slide_type": "skip"
    }
   },
   "outputs": [],
   "source": []
  }
 ],
 "metadata": {
  "celltoolbar": "Slideshow",
  "kernelspec": {
   "display_name": "Python 3 (ipykernel)",
   "language": "python",
   "name": "python3"
  },
  "language_info": {
   "codemirror_mode": {
    "name": "ipython",
    "version": 3
   },
   "file_extension": ".py",
   "mimetype": "text/x-python",
   "name": "python",
   "nbconvert_exporter": "python",
   "pygments_lexer": "ipython3",
   "version": "3.11.5"
  }
 },
 "nbformat": 4,
 "nbformat_minor": 4
}

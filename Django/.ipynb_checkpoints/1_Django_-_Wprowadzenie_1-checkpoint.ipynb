{
 "cells": [
  {
   "cell_type": "markdown",
   "id": "631e9c2e",
   "metadata": {
    "slideshow": {
     "slide_type": "slide"
    }
   },
   "source": [
    "# Django - Wprowadzenie 1\n",
    "*[Mikołaj Leszczuk](mailto:mikolaj.leszczuk@agh.edu.pl), [Agnieszka Rudnicka](mailto:rudnicka@agh.edu.pl)*"
   ]
  },
  {
   "cell_type": "markdown",
   "id": "e26d559c",
   "metadata": {
    "slideshow": {
     "slide_type": "fragment"
    }
   },
   "source": [
    "* Czym jest Django?\n",
    "* Przygotowanie środowiska\n",
    "  * Tworzenie środowiska wirtualnego\n",
    "  * Instalowanie bibliotek/zależności"
   ]
  },
  {
   "cell_type": "markdown",
   "id": "bf30e700",
   "metadata": {
    "slideshow": {
     "slide_type": "slide"
    }
   },
   "source": [
    "## Czym jest Django?"
   ]
  },
  {
   "cell_type": "markdown",
   "id": "0aa86761",
   "metadata": {
    "slideshow": {
     "slide_type": "fragment"
    }
   },
   "source": [
    "**Django** to darmowy i open source'owy framework do budowania aplikacji webowych napisany w Pythonie. Innymi słowy to zestaw narzędzi, który przyśpiesza i ułatwia znacząco proces tworzenia stron."
   ]
  },
  {
   "cell_type": "markdown",
   "id": "d49afcb5",
   "metadata": {
    "slideshow": {
     "slide_type": "subslide"
    }
   },
   "source": [
    "Gdy tworzymy strony internetowe, wiele elementów się powtarza między projektami. Są to przykładowo mechanizmy tworzenia, zarządzania i uwierzytelniania użytkowników, panel zarzadzania treścią czy też mechanizmy wyświetlania i przetwarzania formularzy. Django wychodzi na przeciw tym powtarzającym się wyzwaniom oferując między innymi:"
   ]
  },
  {
   "cell_type": "markdown",
   "id": "90834c0d",
   "metadata": {
    "slideshow": {
     "slide_type": "fragment"
    }
   },
   "source": [
    "* gotowy system tworzenia, rejestracji i logowania użytkowników"
   ]
  },
  {
   "cell_type": "markdown",
   "id": "4c48e114",
   "metadata": {
    "slideshow": {
     "slide_type": "fragment"
    }
   },
   "source": [
    "* gotowy system grup i uprawnień do modeli"
   ]
  },
  {
   "cell_type": "markdown",
   "id": "1e7e524b",
   "metadata": {
    "slideshow": {
     "slide_type": "fragment"
    }
   },
   "source": [
    "* mini-framework do tworzenia i przetwarzania formularzy (`django.contrib.forms`)"
   ]
  },
  {
   "cell_type": "markdown",
   "id": "64376663",
   "metadata": {
    "slideshow": {
     "slide_type": "fragment"
    }
   },
   "source": [
    "* auto-generowany panel administracyjny"
   ]
  },
  {
   "cell_type": "markdown",
   "id": "accfdcef",
   "metadata": {
    "slideshow": {
     "slide_type": "subslide"
    }
   },
   "source": [
    "* gotowe klasy (Class Based Views) na podstawie których można w kilka linijek kodu tworzyć pełnoprawne widoki CRUD (ang. *Create Read Update Delete*)"
   ]
  },
  {
   "cell_type": "markdown",
   "id": "807c109f",
   "metadata": {
    "slideshow": {
     "slide_type": "fragment"
    }
   },
   "source": [
    "* potężny ORM (ang. *Object Relational Mapping*), czyli narzędzie do operowania na danych w bazach danych bez potrzeby użycia SQL (ang. *Structured Query Language*)"
   ]
  },
  {
   "cell_type": "markdown",
   "id": "8935f5b2",
   "metadata": {
    "slideshow": {
     "slide_type": "fragment"
    }
   },
   "source": [
    "* wbudowane mechanizmy cachowania, wysyłania maili"
   ]
  },
  {
   "cell_type": "markdown",
   "id": "1a3764a9",
   "metadata": {
    "slideshow": {
     "slide_type": "fragment"
    }
   },
   "source": [
    "* ...i wiele innych"
   ]
  },
  {
   "cell_type": "markdown",
   "id": "ede17e66",
   "metadata": {
    "slideshow": {
     "slide_type": "slide"
    }
   },
   "source": [
    "## Przygotowanie środowiska"
   ]
  },
  {
   "cell_type": "markdown",
   "id": "b8d88169",
   "metadata": {
    "slideshow": {
     "slide_type": "fragment"
    }
   },
   "source": [
    "Aby rozpocząć pracę z projektem utwórzmy nowy katalog (wcześniej na wszelki wypadek \"sprzątając\")."
   ]
  },
  {
   "cell_type": "markdown",
   "id": "30c2cb7b",
   "metadata": {
    "slideshow": {
     "slide_type": "fragment"
    }
   },
   "source": [
    "Można to zrobić poleceniem:"
   ]
  },
  {
   "cell_type": "code",
   "execution_count": null,
   "id": "b7a9c845",
   "metadata": {
    "slideshow": {
     "slide_type": "-"
    }
   },
   "outputs": [],
   "source": [
    "!rm -r manage.py goodmovies movies db.sqlite3 venv\n",
    "!mkdir goodmovies"
   ]
  },
  {
   "cell_type": "markdown",
   "id": "6fd6ff3d",
   "metadata": {
    "slideshow": {
     "slide_type": "subslide"
    }
   },
   "source": [
    "Sprawdźmy, czy mamy poprawnie zainstalowany język Python w wersji 3 poleceniem w terminalu. Naszym oczom powinno się ukazać coś takiego:"
   ]
  },
  {
   "cell_type": "code",
   "execution_count": null,
   "id": "b7da4234",
   "metadata": {
    "slideshow": {
     "slide_type": "fragment"
    }
   },
   "outputs": [],
   "source": [
    "!python3 -V"
   ]
  },
  {
   "cell_type": "markdown",
   "id": "44016111",
   "metadata": {
    "slideshow": {
     "slide_type": "fragment"
    }
   },
   "source": [
    "W przypadku systemów opartych o jądro UNIX może być potrzeba wpisać `python3 -V`, ponieważ samo `polecenie` python może być linkowane do starszego interpretera (np.: 2.7)."
   ]
  },
  {
   "cell_type": "markdown",
   "id": "2814c482",
   "metadata": {
    "slideshow": {
     "slide_type": "slide"
    }
   },
   "source": [
    "### Tworzenie środowiska wirtualnego"
   ]
  },
  {
   "cell_type": "markdown",
   "id": "fc324c86",
   "metadata": {
    "slideshow": {
     "slide_type": "fragment"
    }
   },
   "source": [
    "Django jak wiele innych narzędzie jest swego rodzaju dodatkiem/pakietem dodatkowym, który nie jest zainstalowany wraz z podstawowym interpreterem języka Python."
   ]
  },
  {
   "cell_type": "markdown",
   "id": "604756fd",
   "metadata": {
    "slideshow": {
     "slide_type": "fragment"
    }
   },
   "source": [
    "Standardową procedurą przy rozpoczynaniu każdego projektu jest stworzenie \"wirtualnego środowiska\" (ang. _virtual environment_ - `venv`) w którym znajdzie się kopia interpretera wraz z wszystkim doinstalowanymi dodatkowymi bibliotekami danego projektu."
   ]
  },
  {
   "cell_type": "markdown",
   "id": "81a9d056",
   "metadata": {
    "slideshow": {
     "slide_type": "subslide"
    }
   },
   "source": [
    "Aby stworzyć wirtualne środowisko należy wykonać polecenie:"
   ]
  },
  {
   "cell_type": "markdown",
   "id": "c00a939d",
   "metadata": {
    "slideshow": {
     "slide_type": "fragment"
    }
   },
   "source": [
    "```sh\n",
    "python3 -m venv moje_srodowisko\n",
    "# lub krócej\n",
    "python3 -m venv venv\n",
    "```"
   ]
  },
  {
   "cell_type": "markdown",
   "id": "48b95586",
   "metadata": {
    "slideshow": {
     "slide_type": "fragment"
    }
   },
   "source": [
    "Powyższe polecenie stworzy w bieżącym katalogu lokalną instalację Pythona w katalogu `moje_srodowisko` albo `venv` zależnie od tego które polecenie postanowimy wykonać. Polecam to krótsze, pierwsze ma jedynie charakter demonstracyjny."
   ]
  },
  {
   "cell_type": "code",
   "execution_count": null,
   "id": "f3e80090",
   "metadata": {
    "slideshow": {
     "slide_type": "fragment"
    }
   },
   "outputs": [],
   "source": [
    "!python3 -m venv venv"
   ]
  },
  {
   "cell_type": "markdown",
   "id": "711b7125",
   "metadata": {
    "slideshow": {
     "slide_type": "subslide"
    }
   },
   "source": [
    "Teraz musimy aktywować środowisko wirtualne. Jeśli używamy IDE takiego jak PyCharm lub VSCode, prawdopodobnie zostanie ono automatycznie aktywowane."
   ]
  },
  {
   "cell_type": "markdown",
   "id": "149b6178",
   "metadata": {
    "slideshow": {
     "slide_type": "fragment"
    }
   },
   "source": [
    "Aby jednak ręcznie aktywować środowisko - np. gdy nie używamy IDE należy wykonać poniższe polecenie:"
   ]
  },
  {
   "cell_type": "markdown",
   "id": "e3448a65",
   "metadata": {
    "slideshow": {
     "slide_type": "fragment"
    }
   },
   "source": [
    "```sh\n",
    "# windows:\n",
    "venv\\Scripts\\activate.bat\n",
    "```\n",
    "```sh\n",
    "# unix:\n",
    "source venv/bin/activate\n",
    "```"
   ]
  },
  {
   "cell_type": "code",
   "execution_count": null,
   "id": "0833eea8",
   "metadata": {
    "slideshow": {
     "slide_type": "fragment"
    }
   },
   "outputs": [],
   "source": [
    "!source venv/bin/activate"
   ]
  },
  {
   "cell_type": "markdown",
   "id": "3054298c",
   "metadata": {
    "slideshow": {
     "slide_type": "subslide"
    }
   },
   "source": [
    "O aktywacji dowiemy się widząc w nazwę środowiska wirtualnego w nawiasach:"
   ]
  },
  {
   "cell_type": "markdown",
   "id": "d86d26a0",
   "metadata": {
    "slideshow": {
     "slide_type": "fragment"
    }
   },
   "source": [
    "```sh\n",
    "(venv)\n",
    "```"
   ]
  },
  {
   "cell_type": "markdown",
   "id": "9641f8ff",
   "metadata": {
    "slideshow": {
     "slide_type": "fragment"
    }
   },
   "source": [
    "Chodzi oczywiście o nazwę środowiska `(venv)`, która to normalnie się nie pokazuje."
   ]
  },
  {
   "cell_type": "markdown",
   "id": "65644d66",
   "metadata": {
    "slideshow": {
     "slide_type": "slide"
    }
   },
   "source": [
    "### Instalowanie bibliotek/zależności"
   ]
  },
  {
   "cell_type": "markdown",
   "id": "3a405a1e",
   "metadata": {
    "slideshow": {
     "slide_type": "fragment"
    }
   },
   "source": [
    "Na wstępnie upewnijmy się, że mamy najnowszą wersję `pip`:"
   ]
  },
  {
   "cell_type": "code",
   "execution_count": null,
   "id": "51676d18",
   "metadata": {
    "slideshow": {
     "slide_type": "fragment"
    }
   },
   "outputs": [],
   "source": [
    "pip install --upgrade pip"
   ]
  },
  {
   "cell_type": "markdown",
   "id": "945d5814",
   "metadata": {
    "slideshow": {
     "slide_type": "subslide"
    }
   },
   "source": [
    "A teraz właściwa część przygotowania środowiska - czyli instalujemy framework Django:"
   ]
  },
  {
   "cell_type": "code",
   "execution_count": null,
   "id": "caf00518",
   "metadata": {
    "slideshow": {
     "slide_type": "fragment"
    }
   },
   "outputs": [],
   "source": [
    "pip install \"Django>=4.2.1\""
   ]
  },
  {
   "cell_type": "markdown",
   "id": "d4fa2a8e",
   "metadata": {
    "slideshow": {
     "slide_type": "subslide"
    }
   },
   "source": [
    "Po wykonaniu powyższego polecenia możemy sprawdzić aktualnie zainstalowane pakiety poleceniem `pip list`. U mnie lista wygląda tak:"
   ]
  },
  {
   "cell_type": "code",
   "execution_count": null,
   "id": "7d2e8a63",
   "metadata": {
    "slideshow": {
     "slide_type": "fragment"
    }
   },
   "outputs": [],
   "source": [
    "pip list"
   ]
  },
  {
   "cell_type": "markdown",
   "id": "ac573806",
   "metadata": {
    "slideshow": {
     "slide_type": "subslide"
    }
   },
   "source": [
    "Dobrą praktyką jest stworzenie pliku z listą zależności wymaganych do uruchomienia projektu. Najprostszą metodą jest wykonanie polecenia:"
   ]
  },
  {
   "cell_type": "code",
   "execution_count": null,
   "id": "83d3f489",
   "metadata": {
    "slideshow": {
     "slide_type": "fragment"
    }
   },
   "outputs": [],
   "source": [
    "pip freeze > requirements.txt"
   ]
  },
  {
   "cell_type": "markdown",
   "id": "6f5f3bc7",
   "metadata": {
    "slideshow": {
     "slide_type": "fragment"
    }
   },
   "source": [
    "Zapisze ono wszystkie biblioteki wraz z dokładnymi ich wersjami do pliku o nazwie `requirements.txt`. Nazwa tego pliku jest pewnego rodzaju konwencją, którą można spotkać w wielu projektach."
   ]
  },
  {
   "cell_type": "markdown",
   "id": "93dbdbca",
   "metadata": {
    "slideshow": {
     "slide_type": "subslide"
    }
   },
   "source": [
    "Zaglądnijmy więc do pliku `requirements.txt`:"
   ]
  },
  {
   "cell_type": "code",
   "execution_count": null,
   "id": "b7900292",
   "metadata": {
    "slideshow": {
     "slide_type": "fragment"
    }
   },
   "outputs": [],
   "source": [
    "!cat requirements.txt"
   ]
  },
  {
   "cell_type": "markdown",
   "id": "d3c07216",
   "metadata": {
    "slideshow": {
     "slide_type": "subslide"
    }
   },
   "source": [
    "Jak widać, lista jest trochę krótsza niż wynik działania `pip list`. Nie znajdziemy tutaj pakietów `pip` oraz `setuptools`, bo są one niejako \"wbudowane\" w instalacje Pythona i wymagane do przeprowadzenia jakichkolwiek instalacji pakietów."
   ]
  },
  {
   "cell_type": "markdown",
   "id": "4b3b55c9",
   "metadata": {
    "slideshow": {
     "slide_type": "fragment"
    }
   },
   "source": [
    "Gdybyśmy teraz chcieli na innym komputerze zainstalować wymagane przez nasz projekt pakiety wykonujemy polecenie:"
   ]
  },
  {
   "cell_type": "code",
   "execution_count": null,
   "id": "abadefa4",
   "metadata": {
    "slideshow": {
     "slide_type": "fragment"
    }
   },
   "outputs": [],
   "source": [
    "pip install -r requirements.txt"
   ]
  },
  {
   "cell_type": "markdown",
   "id": "675d4a6a",
   "metadata": {
    "slideshow": {
     "slide_type": "subslide"
    }
   },
   "source": [
    "To polecenie przeczyta sobie plik i zainstaluje pakiety dokładnie w takich wersjach jak wcześniej zostały zapisane."
   ]
  },
  {
   "cell_type": "markdown",
   "id": "f6747175",
   "metadata": {
    "slideshow": {
     "slide_type": "fragment"
    }
   },
   "source": [
    "Oczywiście istnieją sposoby na określanie zakresów wersji pakietów, można też w ogóle nie pisać wymaganej wersji. Tego jednak nie polecam, wraz z biegiem czasu może się okazać, że nasz projekt nie działa z najnowszą biblioteki XYZ albo nie współpracuje z innym wymaganym pakietem."
   ]
  },
  {
   "cell_type": "markdown",
   "id": "5d0679c7",
   "metadata": {
    "slideshow": {
     "slide_type": "fragment"
    }
   },
   "source": [
    "Dla świętego spokoju warto wiec określać wersję narzędzi w miarę dokładnie."
   ]
  },
  {
   "cell_type": "code",
   "execution_count": null,
   "id": "050100d2",
   "metadata": {
    "slideshow": {
     "slide_type": "skip"
    }
   },
   "outputs": [],
   "source": []
  }
 ],
 "metadata": {
  "celltoolbar": "Slideshow",
  "kernelspec": {
   "display_name": "Python 3 (ipykernel)",
   "language": "python",
   "name": "python3"
  },
  "language_info": {
   "codemirror_mode": {
    "name": "ipython",
    "version": 3
   },
   "file_extension": ".py",
   "mimetype": "text/x-python",
   "name": "python",
   "nbconvert_exporter": "python",
   "pygments_lexer": "ipython3",
   "version": "3.11.3"
  }
 },
 "nbformat": 4,
 "nbformat_minor": 5
}
